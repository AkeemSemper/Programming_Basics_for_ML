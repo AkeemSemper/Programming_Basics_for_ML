{
 "cells": [
  {
   "cell_type": "markdown",
   "metadata": {},
   "source": [
    "# Q1"
   ]
  },
  {
   "cell_type": "code",
   "execution_count": 13,
   "metadata": {},
   "outputs": [],
   "source": [
    "def q1(riders_per_ride=4):\n",
    "    line = []\n",
    "    num_vips = 0\n",
    "\n",
    "    menu = ('(1) Reserve place in line.\\n'\n",
    "        '(2) Reserve place in VIP liine.\\n'\n",
    "        '(3) Dispatch riders.\\n'\n",
    "        '(4) Print riders.\\n'\n",
    "        '(5) Exit.\\n\\n')\n",
    "    \n",
    "    user_input = -1\n",
    "\n",
    "    while user_input != '5':\n",
    "        user_input = input(menu).strip()\n",
    "        if user_input == '1':\n",
    "            name = input('Enter name: ').strip()\n",
    "            print(name)\n",
    "            line.append(name)\n",
    "        elif user_input == '2':\n",
    "            name = input('Enter name: ').strip()\n",
    "            print(name)\n",
    "            line.insert(num_vips, name)\n",
    "            num_vips += 1\n",
    "        elif user_input == '3':\n",
    "            for i in range(riders_per_ride):\n",
    "                if len(line) == 0:\n",
    "                    print('No riders left.')\n",
    "                    break\n",
    "                print(line.pop(0))\n",
    "                if num_vips > 0:\n",
    "                    num_vips -= 1\n",
    "        elif user_input == '4':\n",
    "            for name in line:\n",
    "                print(name)\n",
    "        elif user_input == '5':\n",
    "            break\n",
    "\n"
   ]
  },
  {
   "cell_type": "code",
   "execution_count": 14,
   "metadata": {},
   "outputs": [],
   "source": [
    "q1()"
   ]
  },
  {
   "cell_type": "markdown",
   "metadata": {},
   "source": [
    "## Q2"
   ]
  },
  {
   "cell_type": "code",
   "execution_count": 15,
   "metadata": {},
   "outputs": [],
   "source": [
    "def listAdder(list1, cutoff=10):\n",
    "    new_set = set()\n",
    "    for i in list1:\n",
    "        new_set.add(i)\n",
    "        if len(new_set) == cutoff:\n",
    "            break\n",
    "    return list(new_set)"
   ]
  },
  {
   "cell_type": "code",
   "execution_count": 16,
   "metadata": {},
   "outputs": [
    {
     "name": "stdout",
     "output_type": "stream",
     "text": [
      "[32, 65, 1, 2, 3, 4, 67, 5, 23, 56]\n"
     ]
    }
   ],
   "source": [
    "testList = [1,1,2,3,4,3,2,4,65,67,32,1,23,4,56,2,3,5,7,77,777,77,723,5253,123,4,2]\n",
    "vals = listAdder(testList)\n",
    "print(vals)"
   ]
  },
  {
   "cell_type": "markdown",
   "metadata": {},
   "source": [
    "## Q3"
   ]
  },
  {
   "cell_type": "code",
   "execution_count": 17,
   "metadata": {},
   "outputs": [],
   "source": [
    "from collections import Counter\n",
    "import pandas as pd\n",
    "def diceCounter(sides=12):\n",
    "    user_input = 0\n",
    "    counts = Counter()\n",
    "    while user_input != -1:\n",
    "        user_input = int(input('Enter dice roll (-1 to quit): '))\n",
    "        if user_input == -1:\n",
    "            break\n",
    "        elif user_input > sides or user_input < 1:\n",
    "            print('Invalid input.')\n",
    "            continue\n",
    "        else:\n",
    "            counts[user_input] += 1\n",
    "    valSeries = pd.Series(counts)\n",
    "    print(valSeries.value_counts().sort_index()\n",
    "    return counts"
   ]
  },
  {
   "cell_type": "code",
   "execution_count": 18,
   "metadata": {},
   "outputs": [
    {
     "name": "stdout",
     "output_type": "stream",
     "text": [
      "5    2\n",
      "1    2\n",
      "6    1\n",
      "2    1\n",
      "4    1\n",
      "dtype: int64\n"
     ]
    },
    {
     "data": {
      "text/plain": [
       "Counter({2: 6, 3: 5, 5: 5, 4: 2, 6: 4, 7: 1, 8: 1})"
      ]
     },
     "execution_count": 18,
     "metadata": {},
     "output_type": "execute_result"
    }
   ],
   "source": [
    "diceCounter()"
   ]
  },
  {
   "cell_type": "markdown",
   "metadata": {},
   "source": [
    "## Q4"
   ]
  },
  {
   "cell_type": "code",
   "execution_count": 19,
   "metadata": {},
   "outputs": [],
   "source": [
    "def listSwapper(list1):\n",
    "    half = len(list1) // 2\n",
    "    listA = []\n",
    "    listB = []\n",
    "    if len(list1) % 2 == 1:\n",
    "        return \"Odd number of elements.\"\n",
    "    else:\n",
    "        listA = list1[:half]\n",
    "        listB = list1[half:]\n",
    "    return listB + listA"
   ]
  },
  {
   "cell_type": "code",
   "execution_count": 20,
   "metadata": {},
   "outputs": [
    {
     "name": "stdout",
     "output_type": "stream",
     "text": [
      "[6, 7, 8, 9, 10, 1, 2, 3, 4, 5]\n"
     ]
    }
   ],
   "source": [
    "print(listSwapper([1,2,3,4,5,6,7,8,9,10]))"
   ]
  },
  {
   "cell_type": "markdown",
   "metadata": {},
   "source": [
    "## Q5"
   ]
  },
  {
   "cell_type": "code",
   "execution_count": 3,
   "metadata": {},
   "outputs": [],
   "source": [
    "def integerLister():\n",
    "    user_input = None\n",
    "    prompt1 = 'Enter integer (blank to proceed): '\n",
    "    prompt2 = 'Enter upper limit: '\n",
    "    prompt3 = 'Enter lower limit: '\n",
    "    intList = []\n",
    "\n",
    "    while user_input != '':\n",
    "        try:\n",
    "            user_input = int(input(prompt1))\n",
    "        except ValueError:\n",
    "            #print('Invalid input.')\n",
    "            break\n",
    "        if user_input == '*':\n",
    "            break\n",
    "        else:\n",
    "            intList.append(user_input)\n",
    "\n",
    "    upper = int(input(prompt2))\n",
    "    lower = int(input(prompt3))\n",
    "    return [x for x in intList if x <= upper and x >= lower]\n"
   ]
  },
  {
   "cell_type": "code",
   "execution_count": 4,
   "metadata": {},
   "outputs": [
    {
     "data": {
      "text/plain": [
       "[4, 5]"
      ]
     },
     "execution_count": 4,
     "metadata": {},
     "output_type": "execute_result"
    }
   ],
   "source": [
    "integerLister()"
   ]
  }
 ],
 "metadata": {
  "kernelspec": {
   "display_name": "ml_env",
   "language": "python",
   "name": "python3"
  },
  "language_info": {
   "codemirror_mode": {
    "name": "ipython",
    "version": 3
   },
   "file_extension": ".py",
   "mimetype": "text/x-python",
   "name": "python",
   "nbconvert_exporter": "python",
   "pygments_lexer": "ipython3",
   "version": "3.10.9"
  },
  "orig_nbformat": 4
 },
 "nbformat": 4,
 "nbformat_minor": 2
}
