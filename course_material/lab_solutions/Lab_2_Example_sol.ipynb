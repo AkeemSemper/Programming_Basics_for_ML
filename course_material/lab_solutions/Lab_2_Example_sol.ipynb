{
 "cells": [
  {
   "cell_type": "code",
   "execution_count": null,
   "metadata": {},
   "outputs": [],
   "source": []
  },
  {
   "cell_type": "markdown",
   "metadata": {},
   "source": [
    "Write an expression that will cause the following code to print \"30 or less\" if the value of user input is 30 or less."
   ]
  },
  {
   "cell_type": "code",
   "execution_count": 1,
   "metadata": {},
   "outputs": [],
   "source": [
    "val1 = input(\"Enter a number: \")\n",
    "def checkLessGreater(value, compare=30):\n",
    "    if value <+ compare:\n",
    "        print(\"Less than 30\")\n",
    "    elif value > compare:\n",
    "        print(\"Over 30\")\n",
    "    else:\n",
    "        raise ValueError(\"Invalid input\")"
   ]
  },
  {
   "cell_type": "markdown",
   "metadata": {},
   "source": [
    "Write a program that reads a floating-point number and prints “zero” if the number is zero. Otherwise, print “positive” or “negative”. Add “small” if the absolute value of the number is less than 1,000,000 or “large” if it exceeds 1,000,000. "
   ]
  },
  {
   "cell_type": "code",
   "execution_count": 6,
   "metadata": {},
   "outputs": [],
   "source": [
    "\n",
    "def sizeChecker(value, limit=1000000):\n",
    "    final_string = \"\"\n",
    "    val = float(value)\n",
    "    if abs(val) >+ limit:\n",
    "        final_string += \"Large\"\n",
    "    elif abs(val) < limit:\n",
    "        final_string += \"Small\"\n",
    "\n",
    "    if val == 0:\n",
    "        final_string = \"Zero\"\n",
    "    elif val > 0:\n",
    "        final_string += \" Positive\"\n",
    "    elif val < 0:\n",
    "        final_string += \" Negative\"\n",
    "    return final_string"
   ]
  },
  {
   "cell_type": "code",
   "execution_count": 7,
   "metadata": {},
   "outputs": [
    {
     "data": {
      "text/plain": [
       "'Zero'"
      ]
     },
     "execution_count": 7,
     "metadata": {},
     "output_type": "execute_result"
    }
   ],
   "source": [
    "val2 = input(\"Enter a number: \")\n",
    "sizeChecker(val2)"
   ]
  },
  {
   "cell_type": "markdown",
   "metadata": {},
   "source": [
    "Write an if-else statement with multiple branches.\n",
    "If year is 2101 or later, print \"Distant future\" (without quotes). Otherwise, if year is 2001 or greater, print \"21st century\". Otherwise, if year is 1901 or greater, print \"20th century\". Else (1900 or earlier), print \"Long ago\"."
   ]
  },
  {
   "cell_type": "code",
   "execution_count": 8,
   "metadata": {},
   "outputs": [],
   "source": [
    "def futureCheck(year):\n",
    "    yr = int(year)\n",
    "    return_string = \"\"\n",
    "    if yr >= 2101:\n",
    "        return_string = \"Distant future\"\n",
    "    elif yr >= 2001:\n",
    "        return_string = \"21st century\"\n",
    "    elif yr >= 1901:\n",
    "        return_string = \"20th century\"\n",
    "    elif yr < 1901:\n",
    "        return_string = \"Long ago\"\n",
    "    else:\n",
    "        raise ValueError(\"Invalid input\")\n",
    "    return return_string\n"
   ]
  },
  {
   "cell_type": "code",
   "execution_count": 10,
   "metadata": {},
   "outputs": [
    {
     "data": {
      "text/plain": [
       "'Long ago'"
      ]
     },
     "execution_count": 10,
     "metadata": {},
     "output_type": "execute_result"
    }
   ],
   "source": [
    "val3 = input(\"Enter a year: \")\n",
    "futureCheck(val3)"
   ]
  },
  {
   "cell_type": "markdown",
   "metadata": {},
   "source": [
    "Write a program whose inputs are three integers, and whose output is the smallest of the three values."
   ]
  },
  {
   "cell_type": "code",
   "execution_count": 11,
   "metadata": {},
   "outputs": [],
   "source": [
    "def findSmallest(num1, num2, num3):\n",
    "    num_list = [num1, num2, num3]\n",
    "    return min(num_list)"
   ]
  },
  {
   "cell_type": "code",
   "execution_count": 12,
   "metadata": {},
   "outputs": [
    {
     "data": {
      "text/plain": [
       "'-45'"
      ]
     },
     "execution_count": 12,
     "metadata": {},
     "output_type": "execute_result"
    }
   ],
   "source": [
    "val4 = input(\"Enter number 1: \")\n",
    "val5 = input(\"Enter number 2: \")\n",
    "val6 = input(\"Enter number 3: \")\n",
    "\n",
    "findSmallest(val4, val5, val6)"
   ]
  },
  {
   "cell_type": "markdown",
   "metadata": {},
   "source": [
    "Write a program that reads a temperature value and the letter C for Celsius or F for Fahrenheit. Print whether water is liquid, solid, or gaseous at the given temperature at sea level."
   ]
  },
  {
   "cell_type": "code",
   "execution_count": 15,
   "metadata": {},
   "outputs": [],
   "source": [
    "def isWater(temp, scale):\n",
    "    fScale = [\"f\", \"F\"]\n",
    "    cScale = [\"c\", \"C\"]\n",
    "    temp_val = float(temp)\n",
    "    state = None\n",
    "    if scale in fScale:\n",
    "        temp_val = temp_val - 32 * (5/9)\n",
    "    \n",
    "    preface = \"At that temperature, water is a \"\n",
    "    if temp_val < 0:\n",
    "        state = \"solid\"\n",
    "    elif temp_val < 100:\n",
    "        state = \"liquid\"\n",
    "    elif temp_val >= 100:\n",
    "        state = \"gas\"\n",
    "\n",
    "    final_string = preface + state\n",
    "    return final_string\n",
    "    "
   ]
  },
  {
   "cell_type": "code",
   "execution_count": 18,
   "metadata": {},
   "outputs": [
    {
     "data": {
      "text/plain": [
       "'At that temperature, water is a liquid'"
      ]
     },
     "execution_count": 18,
     "metadata": {},
     "output_type": "execute_result"
    }
   ],
   "source": [
    "val7 = input(\"Enter a temperature: \")\n",
    "val8 = input(\"Enter a scale (C/F): \")\n",
    "isWater(val7, val8)"
   ]
  }
 ],
 "metadata": {
  "kernelspec": {
   "display_name": "ml_env",
   "language": "python",
   "name": "python3"
  },
  "language_info": {
   "codemirror_mode": {
    "name": "ipython",
    "version": 3
   },
   "file_extension": ".py",
   "mimetype": "text/x-python",
   "name": "python",
   "nbconvert_exporter": "python",
   "pygments_lexer": "ipython3",
   "version": "3.10.9"
  },
  "orig_nbformat": 4
 },
 "nbformat": 4,
 "nbformat_minor": 2
}
