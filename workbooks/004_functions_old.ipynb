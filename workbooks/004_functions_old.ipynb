{
 "cells": [
  {
   "attachments": {},
   "cell_type": "markdown",
   "metadata": {},
   "source": [
    "# Functions\n",
    "\n",
    "Functions are something we've been using all along, they allow us to write a generic block of code that can be reused for all kinds of different purposes. If we write code to add tax to a sale, combine first and last names, or convert between inches and cm, the actual functionality of that code is always the same, just with different details, or inputs. A function allows us to write all the generic code that is ready to accept inputs, does it's job, and spits out an output. \n",
    "\n",
    "## Defining Functions\n",
    "\n",
    "Creating a function is pretty simple, there are a few things we need to think of:\n",
    "<ul>\n",
    "<li> Function name - as with variables, we want a name that makes sense. The name can be almost anything, but we want it to make sense. </li>\n",
    "<li> Inputs/Parameters - these are the values that are supplied by the person <i>using</i> the function.</li> This changes (potentially) every time the function runs. \n",
    "<li> Body - the code that we want to reuse over and over.</li>\n",
    "<li> Output/Return Value - this is the value that the function \"returns\" or the end result. Not every function needs to return a value, some just do stuff. </li>\n",
    "</ul>\n",
    "\n",
    "For example, if we have a function to add the tax to a price, or parts break down as:\n",
    "<ul>\n",
    "<li> Function name - addTax. </li>\n",
    "<li> Parameters - the price of the object and the tax rates. These things can change to anything. </li>\n",
    "<li> Body - calculate the tax and new price. </li>\n",
    "<li> Return value - the newly calculated total price.</li>\n",
    "</ul>\n",
    "\n",
    "We have to define our function first, then we can use it. "
   ]
  },
  {
   "cell_type": "code",
   "execution_count": 1,
   "metadata": {},
   "outputs": [],
   "source": [
    "def addTax(price, taxRate):\n",
    "    total = price + (price * taxRate)\n",
    "    return total"
   ]
  },
  {
   "cell_type": "code",
   "execution_count": 2,
   "metadata": {},
   "outputs": [
    {
     "name": "stdout",
     "output_type": "stream",
     "text": [
      "88.48\n",
      "119.84\n"
     ]
    }
   ],
   "source": [
    "print(addTax(79, 0.12))\n",
    "\n",
    "obj_price = 112\n",
    "gst_rate = 0.07\n",
    "\n",
    "print(addTax(obj_price, gst_rate))"
   ]
  },
  {
   "cell_type": "markdown",
   "metadata": {},
   "source": [
    "## Exercise\n",
    "\n",
    "Define a function that takes in two arguments - a price and a discount rate. The function should return the new price after the discount is applied. Think about what the function should be called, what the parameters should be, what the return value should be, and what may be tested to ensure that it works correctly. "
   ]
  },
  {
   "cell_type": "code",
   "execution_count": null,
   "metadata": {},
   "outputs": [],
   "source": [
    "# Create discount function"
   ]
  },
  {
   "cell_type": "markdown",
   "metadata": {},
   "source": [
    "### Variable Scope\n",
    "\n",
    "One thing to be aware of with functions is the availability of variables that we declare inside the function, this is called the \"scope\" of the variable. We'll look more at scope later, but the basic loops are a good direct example of this. Scope refers to where a variable exists. For most of the random variables we've declared so far, they exist everywhere in the notebook. For example, if we declare a variable in a cell, we can use it in any other cell.\n",
    "\n",
    "Inside the functions we create, we can declare variables that are only available inside the function. This is a good thing, it means we can use the same variable names inside functions without worrying about them conflicting with other variables. In essence, the innards of the function are a separate world from the rest of the notebook. "
   ]
  },
  {
   "cell_type": "markdown",
   "metadata": {},
   "source": [
    "## What to do in a Function?\n",
    "\n",
    "Where, why, and when should we use functions? The answer is pretty simple, whenever we have a block of code that we want to reuse. More aggressively, if we have a specific thing we want to accomplish, we can write a function to do it. Placing our code into functions is never strictly necessary, but it's usually a good idea for a few reasons:\n",
    "<ul>\n",
    "<li> It makes our code more readable. Rather than having all details, the main portion of our code can have higher level abstractions - e.g. \"len\" rather than code that counts the number of letters in a string. </li>\n",
    "<li> It makes our code more reusable. If our code is in a function, we can easily use it in many places with little effort. </li>\n",
    "<li> It makes our code more modular. Individual functions can be added, removed, rearranged, or replaced without impacting the rest of the code. </li>\n",
    "<li> It makes our code more testable. We can verify that a function does what it does, then trust in that when creating larger applications. </li>\n",
    "</ul>\n",
    "\n",
    "It is possible to write code that does everything in one big block, but it's not a good idea. It's much better to break things down into smaller pieces that are easier to understand and test. It is a good rule of thumb to put anything that we might want to do more than once, anything that requires many steps to do one \"thing\", or anything with a defined input and output into a function. You'll rarely go wrong by putting code into a function."
   ]
  },
  {
   "cell_type": "markdown",
   "metadata": {},
   "source": [
    "## Exercise\n",
    "\n",
    "Create a function that takes in a string and returns the first, middle, and last characters of the string in a new string. Think in particular about testing when writing this, as there are definitely design decisions and edge cases to consider."
   ]
  },
  {
   "cell_type": "code",
   "execution_count": null,
   "metadata": {},
   "outputs": [],
   "source": [
    "# Write function"
   ]
  },
  {
   "attachments": {},
   "cell_type": "markdown",
   "metadata": {},
   "source": [
    "## Outside Functions\n",
    "\n",
    "When we are using things like len(), type(), or pretty much anything else, we are using a function that was made by someone else and borrowed by us. We can also reuse our own functions in a similar way. \n",
    "\n",
    "In general, we want to put things that we want to repeat into functions, it makes our code easier to maintain, understand, and debug. If we figure out some code to perform a calculation or print a set of charts we can wrap that code in a function to allow us to repurpose it - we can perform the same calculation with any set of values, or print charts from any set of data. As well, as our functions get more complex, functions allow us to only write the complex part of our code once, so if we ever need to modify it or correct some error, that change applies everywhere the function is used and we don't need to hunt down multiple corrections. \n",
    "\n",
    "### Import Statements\n",
    "\n",
    "Import statements allow us to load in other files of code, or entire libraries of code, to use their functions without having to write them ourseleves. We can import almost anything, but the most common things that we may pull in are:\n",
    "<ul>\n",
    "<li> Premade Libraries</li>\n",
    "<li> Selfmade Helpers</li>\n",
    "</ul>\n",
    "\n",
    "Importing either just needs the import statement, along with the name of what we're importing. For the libraries that we use for most things, we can just search for the correct name, for example we can import the \"math\" library to do some math-y stuff like take a square root. We can also put our own functions in a python (.py) file that is in the same folder as our file, and import that; I've made the tax function above into addMyTax in the helper.py file. \n",
    "\n",
    "When using some larger libraries that have many types of functions, it is common for us to only import certain parts or packages from a larger library. This will be very common with the large data science packages, and is fairly common in examples online where things are imported. For example, sklearn is a very common data science library that we'll use all the time later on, it has many packages inside it to do different types of things. For example below, I imported the \"metrics\" package only from the sklearn library, then used the \"accuracy_score\" function from that package. This is not super common for us now, but it will be later on and in stats. "
   ]
  },
  {
   "cell_type": "code",
   "execution_count": 5,
   "metadata": {},
   "outputs": [
    {
     "data": {
      "text/plain": [
       "0.5"
      ]
     },
     "execution_count": 5,
     "metadata": {},
     "output_type": "execute_result"
    }
   ],
   "source": [
    "import sklearn.metrics as ms\n",
    "ms.accuracy_score([0,0,1,1], [1,1,1,1])"
   ]
  },
  {
   "cell_type": "code",
   "execution_count": 7,
   "metadata": {},
   "outputs": [
    {
     "name": "stdout",
     "output_type": "stream",
     "text": [
      "3.0\n"
     ]
    }
   ],
   "source": [
    "import math\n",
    "print(math.sqrt(9))"
   ]
  },
  {
   "cell_type": "markdown",
   "metadata": {},
   "source": [
    "#### Import Local Files\n",
    "\n",
    "We can import our personal helper files in the exact same way, they just need to be in the same folder as our notebook."
   ]
  },
  {
   "cell_type": "code",
   "execution_count": 6,
   "metadata": {},
   "outputs": [
    {
     "data": {
      "text/plain": [
       "119.84"
      ]
     },
     "execution_count": 6,
     "metadata": {},
     "output_type": "execute_result"
    }
   ],
   "source": [
    "import helper\n",
    "helper.addMyTax(obj_price, gst_rate)"
   ]
  },
  {
   "attachments": {},
   "cell_type": "markdown",
   "metadata": {},
   "source": [
    "### Building Helper Files\n",
    "\n",
    "One recommendation is to build up something like that helper file with things you may use repeatedly and import it to make your life easier. A helper function is simple to make, it can just be a .py file that has a series of function definitions in it. There is a sample helper.py file in the same folder as this notebook, you can open it up to see how it works, then repurpose it for your own use. To import it, we just need to make sure the file is in the same folder, use the import statement to import it, then we can use the functions inside it by calling them with the dot notation - \"helper.functionName()\".\n",
    "\n",
    "If you're dedicated and obsessive, you can also build up a library of functions that you use regularly, modify those functions to be more flexible as you learn, and save yourself a lot of time and effort. As you get into the data science and statistics stuff, there are many plotting, exploring, and analysis functions that you'll use over and over, building functions that so the heavy lifting for you can save a lot of time in the long run. "
   ]
  },
  {
   "cell_type": "code",
   "execution_count": 10,
   "metadata": {},
   "outputs": [],
   "source": [
    "a=9123\n",
    "def newtMethSQRT(target_num, cutoff=.0001, initial_guess=7):\n",
    "    #Calculate SQRT using Newton's Method\n",
    "    difference = cutoff + 1\n",
    "    guess = initial_guess\n",
    "    \n",
    "    while difference > cutoff:\n",
    "            y = (guess + a/guess)/2\n",
    "            difference = abs(guess - y)\n",
    "            guess = y\n",
    "    return guess\n",
    "\n"
   ]
  },
  {
   "cell_type": "code",
   "execution_count": 11,
   "metadata": {},
   "outputs": [
    {
     "data": {
      "text/plain": [
       "95.51439682058407"
      ]
     },
     "execution_count": 11,
     "metadata": {},
     "output_type": "execute_result"
    }
   ],
   "source": [
    "newtMethSQRT(9123)"
   ]
  }
 ],
 "metadata": {
  "kernelspec": {
   "display_name": "ml_env",
   "language": "python",
   "name": "python3"
  },
  "language_info": {
   "codemirror_mode": {
    "name": "ipython",
    "version": 3
   },
   "file_extension": ".py",
   "mimetype": "text/x-python",
   "name": "python",
   "nbconvert_exporter": "python",
   "pygments_lexer": "ipython3",
   "version": "3.9.12"
  },
  "orig_nbformat": 4
 },
 "nbformat": 4,
 "nbformat_minor": 2
}
