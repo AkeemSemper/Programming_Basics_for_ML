{
 "cells": [
  {
   "cell_type": "code",
   "execution_count": 57,
   "metadata": {},
   "outputs": [],
   "source": [
    "#import cards\n",
    "from cards import *"
   ]
  },
  {
   "cell_type": "markdown",
   "metadata": {},
   "source": [
    "# Cardz\n",
    "\n",
    "## Import as a Library\n",
    "\n",
    "When we are creating new classes that define usefule new types of objects, pasting the code into code cells over and over is not a very elegant solution. Instead, we can put the code for our classes into a normal Python (.py) file, then import that just as we do with other libraries. If we do this, using the classes that we've created is basically the same as using Pandas Dataframes or Numpy Arrays. If the python file is in the same directory as our notebook we can just import it by file name, as we've done here. \n",
    "\n",
    "The import statement in the block above will import our current card game, just like any other library like Pandas or math. \n",
    "\n",
    "### Using Imported Classes and Methods\n",
    "\n",
    "Above there are two import statements, the <i>import cards</i> that is commented out, and the <i>from cards import *</i> that is being used. These each do the same thing, but in slightly different ways. The first one imports the entire file, and we need to use the dot notation to access the classes and methods that we want. The second one imports everything from the file, directly as its own thing, so we don't need to use the dot notation.\n",
    "\n",
    "In the first, we are importing \"cards\", so if we want to access something that is inside of cards, like Deck, we need to use dot notation of cards.Deck to get to it. We can say that cards is the item that is visible to us, and we need to use dot notation to get to anything inside of it. In the second we are importing each class inside of the cards file on its own, so we don't need to use dot notation to get to it. We can think of that * import like a for loop, it'll grab each class and method in the file and import it on its own. There's no difference in the result of these two, we just need to call functions differently depending on which we use. You can see the same thing with imports from public libraries, most notably with sklearn, there are examples of both types of imports in the documentation, tutorials, and examples.\n"
   ]
  },
  {
   "cell_type": "code",
   "execution_count": 58,
   "metadata": {},
   "outputs": [
    {
     "name": "stdout",
     "output_type": "stream",
     "text": [
      "King of Hearts\n"
     ]
    }
   ],
   "source": [
    "c = Card(\"Hearts\", \"King\")\n",
    "print(c)"
   ]
  },
  {
   "cell_type": "code",
   "execution_count": 59,
   "metadata": {},
   "outputs": [
    {
     "name": "stdout",
     "output_type": "stream",
     "text": [
      "0: Six of Diamonds\n",
      "1: Two of Spades\n",
      "2: Queen of Hearts\n",
      "3: Seven of Clubs\n",
      "4: King of Hearts\n",
      "5: Jack of Diamonds\n",
      "6: Ace of Spades\n",
      "7: King of Diamonds\n",
      "8: Eight of Diamonds\n",
      "9: Ten of Spades\n",
      "10: Jack of Clubs\n",
      "11: King of Clubs\n",
      "12: Four of Hearts\n",
      "13: Six of Spades\n",
      "14: Queen of Diamonds\n",
      "15: Five of Clubs\n",
      "16: Six of Hearts\n",
      "17: Six of Clubs\n",
      "18: Five of Diamonds\n",
      "19: Nine of Hearts\n",
      "20: Queen of Clubs\n",
      "21: Two of Diamonds\n",
      "22: Three of Diamonds\n",
      "23: Two of Hearts\n",
      "24: Ace of Clubs\n",
      "25: King of Spades\n",
      "26: Nine of Diamonds\n",
      "27: Seven of Spades\n",
      "28: Eight of Spades\n",
      "29: Four of Diamonds\n",
      "30: Seven of Hearts\n",
      "31: Ten of Clubs\n",
      "32: Seven of Diamonds\n",
      "33: Ace of Diamonds\n",
      "34: Nine of Clubs\n",
      "35: Eight of Hearts\n",
      "36: Two of Clubs\n",
      "37: Three of Clubs\n",
      "38: Three of Hearts\n",
      "39: Queen of Spades\n",
      "40: Four of Clubs\n",
      "41: Four of Spades\n",
      "42: Five of Spades\n",
      "43: Ace of Hearts\n",
      "44: Ten of Diamonds\n",
      "45: Jack of Hearts\n",
      "46: Eight of Clubs\n",
      "47: Jack of Spades\n",
      "48: Three of Spades\n",
      "49: Five of Hearts\n",
      "50: Ten of Hearts\n",
      "51: Nine of Spades\n",
      "\n"
     ]
    }
   ],
   "source": [
    "d = Deck(populate=True, shuffle=True)\n",
    "print(d)"
   ]
  },
  {
   "cell_type": "markdown",
   "metadata": {},
   "source": [
    "### Results\n",
    "\n",
    "One imported things should work just as we are used to with other libraries or with using the code as we did previously. \n",
    "\n",
    "### Warning Note\n",
    "\n",
    "When things are imported they are \"brought into\" the current environment in which the program is running. Sometimes if you're changing things, the current definition of one of the classes or functions might still be old in the environment, even if you've updated the code. If there are weird errors, a first step is to restart the kernel (the restart button in vs code, or close and reopen the file) and rerun the code. There is a possibility that things are just out of sync.\n",
    "\n",
    "Saving the .py file that you're working on also matters, as the import will grab the file from disk, not the current state of whatever you're working on. "
   ]
  },
  {
   "cell_type": "code",
   "execution_count": null,
   "metadata": {},
   "outputs": [],
   "source": []
  },
  {
   "cell_type": "markdown",
   "metadata": {},
   "source": [
    "## Do You Want to Play a Game? \n",
    "\n",
    "We can expand the capabilities of our poker infrastructure by adding a little more logic and functionality. Right now, we have something that has some of the functionality we need:\n",
    "<ul>\n",
    "<li> Cards exist (and are likely complete). </li>\n",
    "<li> Decks exist and are probably mostly complete. </li>\n",
    "<li> Hands inheirit from Decks, and are largely complete outside of building out the scoring and comparison logic. </li>\n",
    "</ul>\n",
    "\n",
    "Some things that we likely want to add next, along with what we need to consider:\n",
    "<ul>\n",
    "<li> A game class, that will act initially as a testing harness to help us, and grow into playing poker. </li>\n",
    "    <ul>\n",
    "    <li> This class should \"hold\" the game. </li>\n",
    "    <li> Creation of a game should make players, and we should have the ability to play multiple rounds. </li>\n",
    "    <li> <b>Note:</b> as we go through making the game, we might find things we want to change or move around elsewhere in the code. </li>\n",
    "    </ul>\n",
    "<li> A player class, that will represent a player in a poker game. </li>\n",
    "    <ul>\n",
    "    <li> This class should hold attributes of the player - name and their bankroll. </li>\n",
    "    <li> The player will also have a hand for each round. </li>\n",
    "    <li> The player will eventually need methods to do \"poker stuff\" - bet, fold, swap cards, etc...</li>\n",
    "    </ul>\n",
    "</ul>\n",
    "\n",
    "We can still try to simplify things to make our project easier, in particular I'm going to leave out the idea of swapping cards out of a hand. So our poker came will be simplified to:\n",
    "<ul>\n",
    "<li> Deal 5 cards to each player. </li>\n",
    "<li> Players can bet, call, or fold. </li>\n",
    "<li> Determine winner and give prize. </li>\n",
    "</ul>\n",
    "\n",
    "As with our other simplifications we are leaving out some of the more complex bits to create a framework that is functional but incomplete. We can then go back to things like the scoring logic and fill them in after other parts are functional. "
   ]
  },
  {
   "cell_type": "code",
   "execution_count": null,
   "metadata": {},
   "outputs": [],
   "source": []
  },
  {
   "cell_type": "markdown",
   "metadata": {},
   "source": [
    "### Player Actions\n",
    "\n",
    "At this point we have the first real place where we need to capture and deal with a player decision, the decision of what to bet. Before we tackle this, we should look at how poker betting works in general (there are lots of variations, but this is more or less true):\n",
    "<ul>\n",
    "<li> Someone has to ante, or place a small forced bet to start the round. This rotates through players. </li>\n",
    "<li> Players can then raise, call, or fold. </li>\n",
    "<li> Each player must either match or raise the bet to stay in, or fold. </li>\n",
    "<li> Once everyone has matched or folded, the round of betting is over and we do the next thing. </li>\n",
    "</ul>\n",
    "\n",
    "This framework is relatively simple, and I think that we can adapt something that works for this to a real game with multiple rounds of betting. One thing that we need to get to do this is an input from the player, what do they want to do with their hand. We can accommodate this by adding a method to the player class that will ask them what they want to do, and then return that decision. In our testing we can setup dummy actions for our players to take, but in the long run the method we build can be modified to work in a real game. For example, if our method accepts a decision of bet/call/fold, the logic of what we need to do in our game is done - accepting that decision can come from other places, such as another \"real\" player, a gamepad, the internet, etc... We don't need to conflate the \"get a decision\" and the \"do the decision\" parts of the code.\n",
    "\n",
    "### Development Work\n",
    "\n",
    "I'm going to make the new classes here, then paste them into the .py file when done. This isn't mandatory, I just find it easier to work directly here as we go, you can also just work in the .py file and import it as we did above."
   ]
  },
  {
   "cell_type": "code",
   "execution_count": 60,
   "metadata": {},
   "outputs": [],
   "source": [
    "class Player():\n",
    "\n",
    "    def __init__(self, name, bank=1000):\n",
    "        self.name = name\n",
    "        self.hand = None\n",
    "        self._bank = bank\n",
    "    \n",
    "    def setHand(self, hand):\n",
    "        self.hand = hand\n",
    "\n",
    "    def __str__(self):\n",
    "        return self.name+\" - : \"+str(self._bank)+\"\\n\"+str(self.hand)\n",
    "    \n",
    "    def __lt__(self, other):\n",
    "        return self.hand < other.hand\n",
    "    def checkHand(self):\n",
    "        return self.hand.checkHand()\n",
    "    \n",
    "    def bet(self, amount):\n",
    "        if amount > self._bank:\n",
    "            raise ValueError(\"You don't have that much money\")\n",
    "        self._bank -= amount\n",
    "        return amount\n",
    "    \n",
    "    def getBank(self):\n",
    "        return self._bank\n",
    "    def setBank(self, value):\n",
    "        self._bank = value\n",
    "    def addBank(self, value):\n",
    "        self._bank += value"
   ]
  },
  {
   "cell_type": "code",
   "execution_count": 61,
   "metadata": {},
   "outputs": [],
   "source": [
    "class FiveCardDraw():\n",
    "\n",
    "    def __init__(self, num_players=4, num_cards=5, start_bank=1000, player_names=None):\n",
    "        self.num_players = num_players\n",
    "        self.num_cards = num_cards\n",
    "        self.players = []\n",
    "\n",
    "        for i in range(num_players):\n",
    "            play_name = player_names[i]\n",
    "            if play_name is None:\n",
    "                self.players.append(Player(\"Player \"+str(i), start_bank))\n",
    "            else:\n",
    "                self.players.append(Player(play_name, start_bank))\n",
    "    \n",
    "    def __str__(self):\n",
    "        return_string = \" \"\n",
    "        for i, hand in enumerate(self.players):\n",
    "            return_string += self.players[i].name+\":\\n\"+str(hand)+\"\\n\"\n",
    "        return return_string\n",
    "    \n",
    "    def calculateWinner(self, to_print=False):\n",
    "        scores = []\n",
    "        for hand in self.players:\n",
    "            scores.append(hand.checkHand())\n",
    "        if to_print:\n",
    "            print(scores)\n",
    "        return scores.index(max(scores))\n",
    "    \n",
    "    def playRound(self):\n",
    "        deck = Deck(shuffle=True, populate=True)\n",
    "        hands = list(map(Hand.deckToHand, deck.deal(num_hands=self.num_players, card_per_hand=self.num_cards)))\n",
    "        \n",
    "        for i, hand in enumerate(hands):\n",
    "            self.players[i].setHand(hand)\n",
    "        \n",
    "        winner = self.calculateWinner()\n",
    "        return winner, hands[winner]\n",
    "    \n",
    "    def getPlayers(self):\n",
    "        return sorted(self.players)"
   ]
  },
  {
   "cell_type": "markdown",
   "metadata": {},
   "source": [
    "### Test Harness\n",
    "\n",
    "This scenario is starting to get complex enough that we will want to do some testing as we go. We can build a test harness, or a piece of code that runs some other piece of code for testing, that will do some runs of our game, so we can see the results easily. \n",
    "\n",
    "Building a test harness is a good idea for a few reasons:\n",
    "<ul>\n",
    "<li> It allows us to test our code as we go, without having to run the whole game. </li>\n",
    "<li> It allows us to test our code in a controlled way, so we can see what happens when we do certain things. </li>\n",
    "<li> It allows us easily do regression testing, or verify that we haven't broken something that was working before. </li>\n",
    "</ul>\n",
    "\n",
    "In ours, I want to cover the key things we are trying to make. This won't be totally comprehensive, but it will be representative. Some of the steps that I think I want to test are:\n",
    "<ul>\n",
    "<li> Creating a game. </li>\n",
    "<li> Creating players and ensuring their names and banks work properly. </li>\n",
    "<li> Dealing cards to players. </li>\n",
    "<li> Getting a couple of different decisions from a player. </li>\n",
    "<li> Evaluating winner. </li>\n",
    "<li> Updating bankrolls. </li>\n",
    "<li> Starting a new round from the ending state of the last one. (Our game keeps going, we shouldn't reset things like bankrolls). </li>\n",
    "</ul>\n",
    "\n",
    "Our game will need to do all of this stuff, so we can start with the tests that we need to pass, and work backwards. If all of this stuff works, we are likely good, up to the point that we are aiming for. As well, if something breaks as we make changes, we will notice that quickly, not after we've made dozens of other changes that can make it hard to find the problem.\n",
    "\n",
    "To set this up, I can think of what steps are needed to do the work above, then code that. I can also think of what the output should be, and we can write checks to see if it matches the expected output. The checking part is obviously something that might not always be practical to do, but if it is possible it is something that can help us automate the testing process as much as possible. So the steps that I'll aim for are:\n",
    "<ul>\n",
    "<li> Make a new game with some named players and a provided bankroll. </li>\n",
    "<li> Check that the players have the right names and bankrolls. </li>\n",
    "<li> Deal cards to the players. </li>\n",
    "<li> Check that the players have the right cards.* </li>\n",
    "<li> Provide bets for the players. </li>\n",
    "<li> Determine winners. </li>\n",
    "<li> Change bankrolls. </li>\n",
    "<li> Check that the bankrolls are correct. </li>\n",
    "<li> Start a new round. </li>\n",
    "<li> Check inital bankrolls. </li>\n",
    "</ul>\n",
    "\n",
    "This might change a bit as I go, but this is a good starting point. One thing to note is that we want to check the logic of who wins, and ensure that is correct so that we can test the bankrolls. For this test, I think that I might make the hands that each player gets be fixed, so we can know who should win. This will make it easier to test the new stuff, since we are already pretty confident that dealing different hands is ok from the testing we did outside the game.\n",
    "\n",
    "We can do the actual tests in any way that we find convenient, one way is to use the assert statement. This statement will check if something is true, and if it is not, it will throw an error. This is a good way to check things that we expect to be true, and if they are not, we know that something is wrong. Using asserts can also integrate well with other testing and debugging frameworks, so it is good practice. There are several more elaborate testing frameworks that are more common in larger projects, but the idea is always the same - check and see if whatever we wrote passes whatever requirements we have.\n",
    "\n",
    "#### Changes for Testing\n",
    "\n",
    "As we build this we will likely encounter changes we need to make, even to the older parts of the code. Most notably, we may need some changes to get values from objects so we can do the testing. We'll probably also notice things that we need to add, such as the ability to add names to players in our game. That's normal to find, and we can make the changes as we go for smaller things. Some of the things we add might not be useful for \"real\" poker games, they might just be needed for us to test; that is fine, we can just not use them later. "
   ]
  },
  {
   "cell_type": "code",
   "execution_count": 62,
   "metadata": {},
   "outputs": [
    {
     "name": "stdout",
     "output_type": "stream",
     "text": [
      " Bob:\n",
      "Bob - : 1000\n",
      "None\n",
      "Alice:\n",
      "Alice - : 1000\n",
      "None\n",
      "Charlie:\n",
      "Charlie - : 1000\n",
      "None\n",
      "David:\n",
      "David - : 1000\n",
      "None\n",
      "\n"
     ]
    }
   ],
   "source": [
    "players = [\"Bob\", \"Alice\", \"Charlie\", \"David\"]\n",
    "target_banks = [1150, 950, 950, 950]\n",
    "\n",
    "game1 = FiveCardDraw(player_names=players)\n",
    "print(game1)\n",
    "game1.playRound()\n",
    "result = game1.getPlayers()"
   ]
  },
  {
   "cell_type": "markdown",
   "metadata": {},
   "source": [
    "#### Player Test Function\n",
    "\n",
    "Testing the player is relatively simple, since it doesn't do all that much. We want to test that each of the things that a player does works. We can go down the line and think about some things to test:\n",
    "<ul>\n",
    "<li> Creating a player with a name and bankroll. </li>\n",
    "<li> Checking that the name in the player object matches what we set. </li>\n",
    "<li> Checking that the bankroll in the player object matches what we set. </li>\n",
    "<li> Give that player a hand. </li>\n",
    "<li> Check that the hand matches what we gave it. </li>\n",
    "<li> Give that player a new hand. </li>\n",
    "<li> Check that the hand matches what we gave it. </li>\n",
    "<li> Make a bet. </li>\n",
    "<li> Check that the bet matches what we set. </li>\n",
    "<li> Check that the bankroll matches what we set. </li>\n",
    "</ul>\n",
    "\n",
    "This list is pretty good for the functionality of the Player, so we can build unit tests to check all of these things. I think we'll have to check comparisons, but I'll do that in the game tests, for now we'll just test that one player works properly. Like most other things, what exactly we want to test for might grow or change as we build things and explore the details of our project more. For each one we want to check the functionality of the player class, so that will generally translate into:\n",
    "<ul>\n",
    "<li> Make some trial data up. </li>\n",
    "<li> Use that data in the player class. </li>\n",
    "<li> Check the resulting output of the player object, compare to what we know we want. </li>\n",
    "</ul>\n",
    "\n",
    "We can do this for each of the things we want to test, and we can do it in a function that we can call to run the tests. This is a good way to do things, since we can then run the tests whenever we want, and we can also add more tests as we go. If we are able to capture all possible cases, we can be near certain that our code works properly if it passes. If we are not able to capture every possible scenario, but are able to capture many or a representative sample, we can't be certain but we can be more confident. As well, if we notice issues, we can add tests to the list to address them as they occur. \n",
    "\n",
    "#### Player Test Implementation\n",
    "\n",
    "The example I'm making here does the job, but it isn't the only way. On a larger project, we want to comply with the standards of the organization; for our smaller examples, focus on the idea of verifying that things work, and managing that testing in an organized way. For my example here, I'll structure some functions so they take in:\n",
    "<ul>\n",
    "<li> An object that we've made. </li>\n",
    "<li> The data that we used as the input to the object, to test against. </li>\n",
    "</ul>\n",
    "\n",
    "I think this is a solid process to start with, and it allows us to easily test multiple scenarios by looping over different inputs. "
   ]
  },
  {
   "cell_type": "code",
   "execution_count": null,
   "metadata": {},
   "outputs": [],
   "source": [
    "def testPlayer(player, name, hand, bank):\n",
    "    assert player.name == name\n",
    "    assert player.hand == hand\n",
    "    assert player.getBank() == bank\n"
   ]
  },
  {
   "cell_type": "markdown",
   "metadata": {},
   "source": [
    "#### Game Test Function\n",
    "\n",
    "We can also do some larger scale integration testing on the game, and use those tests to guide our development. \n",
    "\n",
    "The integration tests are aimed at the larger processes that are part of the game, not on specific functions. The scenarios will therefore be larger and less specific. I think that some things that are good to test are:\n",
    "<ul>\n",
    "<li> Can we make the game to its initial state? With players and bankrolls? </li>\n",
    "<li> Can we play a hand, and how do we test that? </li>\n",
    "<li> After a hand is played, can we start another from the ending state of the last one? </li>\n",
    "</ul>\n",
    "\n",
    "These tests don't target the specific functions in our game, we aren't testing things like comparing hands or dealing cards directly as we've done that when we created them. These tests are for entire processes, so they'll show us if things work, but likely won't pinpoint where errors occur. "
   ]
  },
  {
   "cell_type": "code",
   "execution_count": null,
   "metadata": {},
   "outputs": [],
   "source": [
    "def testGame():\n",
    "    pass"
   ]
  },
  {
   "cell_type": "markdown",
   "metadata": {},
   "source": [
    "### Extension\n",
    "\n",
    "Our game is getting closer and close to being functional, some things that we can add, and that we will look at in the future, are:\n",
    "<ul>\n",
    "<li> Real scoring and comparison logic. </li>\n",
    "<li> Multiple rounds of betting. </li>\n",
    "<li> Card exchanges. </li>\n",
    "</ul>"
   ]
  }
 ],
 "metadata": {
  "kernelspec": {
   "display_name": "ml_env",
   "language": "python",
   "name": "python3"
  },
  "language_info": {
   "codemirror_mode": {
    "name": "ipython",
    "version": 3
   },
   "file_extension": ".py",
   "mimetype": "text/x-python",
   "name": "python",
   "nbconvert_exporter": "python",
   "pygments_lexer": "ipython3",
   "version": "3.10.9"
  },
  "orig_nbformat": 4
 },
 "nbformat": 4,
 "nbformat_minor": 2
}
