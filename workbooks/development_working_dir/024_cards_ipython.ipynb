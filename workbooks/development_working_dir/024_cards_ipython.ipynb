{
 "cells": [
  {
   "cell_type": "code",
   "execution_count": 15,
   "metadata": {},
   "outputs": [],
   "source": [
    "from ipywidgets import *\n",
    "import cards_sol_2 as cardsPY\n",
    "from ipywidgets import interact, interactive, fixed, interact_manual"
   ]
  },
  {
   "cell_type": "markdown",
   "metadata": {},
   "source": [
    "# Widgets"
   ]
  },
  {
   "cell_type": "code",
   "execution_count": 16,
   "metadata": {},
   "outputs": [
    {
     "name": "stdout",
     "output_type": "stream",
     "text": [
      "Player 0 - : 1000\n",
      "0: Ten of Clubs\n",
      "1: Ten of Hearts\n",
      "2: King of Hearts\n",
      "3: Jack of Diamonds\n",
      "4: Jack of Hearts\n",
      "\n"
     ]
    }
   ],
   "source": [
    "fcd = cardsPY.FiveCardDraw()\n",
    "players = fcd.getPlayers()\n",
    "fcd.deal()\n",
    "play1 = players[0]\n",
    "print(play1)"
   ]
  },
  {
   "cell_type": "code",
   "execution_count": 17,
   "metadata": {},
   "outputs": [],
   "source": [
    "cards = play1.getHand().toListOfCards()\n",
    "buttons = []\n",
    "\n",
    "for i, card in enumerate(cards):\n",
    "    #toggleButton = Checkbox(description=str(card), name=str(\"Card_\"+str(i)), value=False)\n",
    "    toggleButton = toggleButton = ToggleButton(description=str(card), name=str(\"Card_\"+str(i)), value=False)\n",
    "    #toggleButton.observe(on_deal_click, 'value')\n",
    "    buttons.append(toggleButton)"
   ]
  },
  {
   "cell_type": "code",
   "execution_count": 18,
   "metadata": {},
   "outputs": [
    {
     "data": {
      "application/vnd.jupyter.widget-view+json": {
       "model_id": "004d562a90854d94967783e2c168d29a",
       "version_major": 2,
       "version_minor": 0
      },
      "text/plain": [
       "interactive(children=(ToggleButton(value=False, description='Ten of Clubs'), ToggleButton(value=False, descrip…"
      ]
     },
     "metadata": {},
     "output_type": "display_data"
    },
    {
     "data": {
      "application/vnd.jupyter.widget-view+json": {
       "model_id": "8deaf7e75b14497aa55c3f3688fb72db",
       "version_major": 2,
       "version_minor": 0
      },
      "text/plain": [
       "interactive(children=(IntSlider(value=0, description='x'), Output()), _dom_classes=('widget-interact',))"
      ]
     },
     "metadata": {},
     "output_type": "display_data"
    },
    {
     "data": {
      "application/vnd.jupyter.widget-view+json": {
       "model_id": "aeb05f980cf84a29acfeeecebeb08246",
       "version_major": 2,
       "version_minor": 0
      },
      "text/plain": [
       "Button(description='Submit', style=ButtonStyle())"
      ]
     },
     "metadata": {},
     "output_type": "display_data"
    },
    {
     "data": {
      "application/vnd.jupyter.widget-view+json": {
       "model_id": "dca351e7ac414b20a6e0d6eccbe54e6e",
       "version_major": 2,
       "version_minor": 0
      },
      "text/plain": [
       "Label(value='Bank: 1000')"
      ]
     },
     "metadata": {},
     "output_type": "display_data"
    },
    {
     "name": "stdout",
     "output_type": "stream",
     "text": [
      "* Jack of Diamonds\n",
      "* Jack of Hearts\n",
      "0: Ten of Clubs\n",
      "1: Ten of Hearts\n",
      "2: King of Hearts\n",
      "\n",
      "0: Two of Diamonds\n",
      "1: Two of Spades\n",
      " *\n",
      "0\n",
      "[1, 0, 1, 1]\n"
     ]
    }
   ],
   "source": [
    "@interact(x1=buttons[0], x2=buttons[1], x3=buttons[2], x4=buttons[3], x5=buttons[4])\n",
    "def cardButtons(x1,x2,x3,x4,x5):\n",
    "    return (x1, x2, x3, x4, x5)\n",
    "@interact(x=IntSlider(min=0, max=100, step=1, value=0))\n",
    "def betSlider(x):\n",
    "    return x\n",
    "\n",
    "def strToCard(card_str):\n",
    "    card_str = card_str.split(\" of \")\n",
    "    tmp_suit = card_str[1]\n",
    "    tmp_rank = card_str[0]\n",
    "    print(\"*\",cardsPY.Card(tmp_suit, tmp_rank))\n",
    "    return (tmp_suit, tmp_rank)\n",
    "\n",
    "def submitUpdates(button):\n",
    "    names = cardButtons(x1=buttons[0], x2=buttons[1], x3=buttons[2], x4=buttons[3], x5=buttons[4])\n",
    "    for card in names:\n",
    "        if card.value:\n",
    "            #print(card.description)\n",
    "            drops = strToCard(card.description)\n",
    "            play1.removeCard(drops[0], drops[1])\n",
    "    fcd.fillHand(0)\n",
    "    fcd.setBet(0, betSlider(x=0))\n",
    "    win_ind = fcd.calculateWinner(to_print=True)\n",
    "\n",
    "subButton = Button(description=\"Submit\")\n",
    "subButton.on_click(submitUpdates)\n",
    "display(subButton)\n",
    "bankLabel = Label(value=\"Bank: \"+str(play1.getBank()))\n",
    "display(bankLabel)"
   ]
  },
  {
   "cell_type": "code",
   "execution_count": 19,
   "metadata": {},
   "outputs": [
    {
     "name": "stdout",
     "output_type": "stream",
     "text": [
      "Player 0 - : 1000\n",
      "0: Ten of Clubs\n",
      "1: Ten of Hearts\n",
      "2: King of Hearts\n",
      "3: Jack of Diamonds\n",
      "4: Jack of Hearts\n",
      "\n"
     ]
    }
   ],
   "source": [
    "print(play1)"
   ]
  },
  {
   "cell_type": "code",
   "execution_count": 20,
   "metadata": {},
   "outputs": [
    {
     "data": {
      "text/plain": [
       "False"
      ]
     },
     "execution_count": 20,
     "metadata": {},
     "output_type": "execute_result"
    }
   ],
   "source": [
    "buttons[0].value"
   ]
  }
 ],
 "metadata": {
  "kernelspec": {
   "display_name": "ml_env",
   "language": "python",
   "name": "python3"
  },
  "language_info": {
   "codemirror_mode": {
    "name": "ipython",
    "version": 3
   },
   "file_extension": ".py",
   "mimetype": "text/x-python",
   "name": "python",
   "nbconvert_exporter": "python",
   "pygments_lexer": "ipython3",
   "version": "3.10.9"
  },
  "orig_nbformat": 4
 },
 "nbformat": 4,
 "nbformat_minor": 2
}
