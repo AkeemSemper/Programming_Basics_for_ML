{
 "cells": [
  {
   "cell_type": "markdown",
   "metadata": {},
   "source": [
    "# Weird Data Structures\n",
    "\n",
    "While we normally think of and use data structures like lists - we have a bunch of stuff and we put it into some kind of order. In data science, this will usually be the case (along with another container, arrays). Some situations and some problems are better suited to a much different type of data structure to hold the data. Here we'll look at a few data structures that are distinctly non-list-like."
   ]
  },
  {
   "cell_type": "markdown",
   "metadata": {},
   "source": [
    "## Unordered Collections - Sets and Dictionaries\n",
    "\n",
    "Lists and tuples are ordered collections of elements. We can access elements by their index that refers to the position of the element in the collection. Sets and dictionaries are different types of data structures, they still hold objects, but those objects do not have an order or positions. \n",
    "\n",
    "### Sets\n",
    "\n",
    "Sets are unordered collections of unique elements. We can construct them by using the set() function. Sets differ from lists primarily in that they are unordered and that they can only contain unique elements. We can make an empty set and add items, or we can create it from some other data structure (more on this in the dictionary bit).\n",
    "\n",
    "We don't use sets a lot in data science, but they can be useful for a few things. One is to remove duplicates from a list. Another is to find the unique elements in a list. "
   ]
  },
  {
   "cell_type": "code",
   "execution_count": 104,
   "metadata": {},
   "outputs": [
    {
     "name": "stdout",
     "output_type": "stream",
     "text": [
      "{'to', 'where', 2, 4, 'go', 5, 'now', 'everyone', 23, 'hello'}\n"
     ]
    }
   ],
   "source": [
    "# Sets\n",
    "some_stuff = [\"where\", 23, \"to\", 4, \"go\", 5, \"now\"]\n",
    "\n",
    "tmp_set = set(some_stuff)\n",
    "tmp_set.add(\"hello\")\n",
    "tmp_set.add(2)\n",
    "tmp_set.add(\"everyone\")\n",
    "tmp_set.add(4)\n",
    "tmp_set.add(\"where\")\n",
    "\n",
    "print(tmp_set)"
   ]
  },
  {
   "cell_type": "markdown",
   "metadata": {},
   "source": [
    "We can ask if an element is in a set using the `in` operator.\n",
    "\n",
    "Note that our double \"where\" is gone, only one \"where\" remains. This is because sets can only contain unique elements."
   ]
  },
  {
   "cell_type": "code",
   "execution_count": 105,
   "metadata": {},
   "outputs": [
    {
     "data": {
      "text/plain": [
       "True"
      ]
     },
     "execution_count": 105,
     "metadata": {},
     "output_type": "execute_result"
    }
   ],
   "source": [
    "\"hello\" in tmp_set"
   ]
  },
  {
   "cell_type": "markdown",
   "metadata": {},
   "source": [
    "We can remove things by remove or discard. "
   ]
  },
  {
   "cell_type": "code",
   "execution_count": 106,
   "metadata": {},
   "outputs": [
    {
     "name": "stdout",
     "output_type": "stream",
     "text": [
      "{'to', 'where', 2, 'go', 5, 'now', 'everyone', 23}\n"
     ]
    }
   ],
   "source": [
    "tmp_set.remove(4)\n",
    "tmp_set.discard(\"hello\")\n",
    "print(tmp_set)"
   ]
  },
  {
   "cell_type": "code",
   "execution_count": 107,
   "metadata": {},
   "outputs": [
    {
     "data": {
      "text/plain": [
       "False"
      ]
     },
     "execution_count": 107,
     "metadata": {},
     "output_type": "execute_result"
    }
   ],
   "source": [
    "# Check again\n",
    "\"hello\" in tmp_set"
   ]
  },
  {
   "cell_type": "markdown",
   "metadata": {},
   "source": [
    "### Dictionaries\n",
    "\n",
    "Dictionaries are unordered mappings for storing objects in key-value pairs. We'll deal with dictionaries more than sets or other varieties of data structures. Previously we saw how lists store objects in an ordered sequence, dictionaries use a key-value pairing instead. This key-value pair allows users to quickly grab objects without needing to know an index location. Dictionaries use curly braces and colons to signify the keys and their associated values. \n",
    "\n",
    "![Dictionary vs. List](../../images/dict_list.png \"Dictionary vs. List\")\n",
    "![Dictionary vs. List](../images/dict_list.png \"Dictionary vs. List\")\n",
    "\n",
    "We can create a dictionary and build it, or we can create it from some other data structure or starting data. \n",
    "\n",
    "![Dictionary Creation](../../images/make_dict.jpg \"Dictionary Creation\")\n",
    "![Dictionary Creation](../images/make_dict.jpg \"Dictionary Creation\")\n",
    "\n",
    "Accessing items in a dictionary is done with a similar syntax to that of lists, except that instead of using an index value, you use the key name. Just like in an actual dictionary, the lookup isn't based on a position or index, but on the \"key\" you provide."
   ]
  },
  {
   "cell_type": "code",
   "execution_count": 108,
   "metadata": {},
   "outputs": [
    {
     "data": {
      "text/plain": [
       "'value1'"
      ]
     },
     "execution_count": 108,
     "metadata": {},
     "output_type": "execute_result"
    }
   ],
   "source": [
    "# Sample Dictionary\n",
    "d = {'key1':'value1','key2':'value2'}\n",
    "d['key1'] # Call values by their key"
   ]
  },
  {
   "cell_type": "markdown",
   "metadata": {},
   "source": [
    "#### Dictionary Usage\n",
    "\n",
    "Dictionaries are used quite frequently in Python programming, notably it is common to use dictionaries as arguments to functions. We declare a dictionary with the curly braces, and then we can access the values by using the key name.\n",
    "\n",
    "Some common dictionary methods and abilities are:\n",
    "<ul>\n",
    "<li> dict.keys() - returns a list of all keys in the dictionary.</li>\n",
    "<li> dict.values() - returns a list of all values in the dictionary.</li>\n",
    "<li> dict.items() - returns a list of all key-value pairs in the dictionary.</li>\n",
    "<li> in - checks if the key is in the dictionary.</li>\n",
    "<li> del - deletes a key-value pair from the dictionary.</li>\n",
    "</ul>\n",
    "\n",
    "To add a new item to the dictionary we can simply assign a new key and value to the dictionary. To remove an item from the dictionary we can use the del keyword, which has some weird syntax."
   ]
  },
  {
   "cell_type": "code",
   "execution_count": 109,
   "metadata": {},
   "outputs": [
    {
     "data": {
      "text/plain": [
       "dict_items([('key1', 'value1'), ('key2', 'value2')])"
      ]
     },
     "execution_count": 109,
     "metadata": {},
     "output_type": "execute_result"
    }
   ],
   "source": [
    "d.items() # Get all items"
   ]
  },
  {
   "cell_type": "code",
   "execution_count": 110,
   "metadata": {},
   "outputs": [
    {
     "data": {
      "text/plain": [
       "dict_values(['value1', 'value2'])"
      ]
     },
     "execution_count": 110,
     "metadata": {},
     "output_type": "execute_result"
    }
   ],
   "source": [
    "d.values() # Get all values"
   ]
  },
  {
   "cell_type": "code",
   "execution_count": 111,
   "metadata": {},
   "outputs": [
    {
     "data": {
      "text/plain": [
       "dict_keys(['key1', 'key2'])"
      ]
     },
     "execution_count": 111,
     "metadata": {},
     "output_type": "execute_result"
    }
   ],
   "source": [
    "d.keys() # Get all keys"
   ]
  },
  {
   "cell_type": "code",
   "execution_count": 112,
   "metadata": {},
   "outputs": [
    {
     "data": {
      "text/plain": [
       "dict_items([('key2', 'value2'), ('new_value', 'new_value')])"
      ]
     },
     "execution_count": 112,
     "metadata": {},
     "output_type": "execute_result"
    }
   ],
   "source": [
    "# Add \n",
    "d[\"new_value\"] = \"new_value\"\n",
    "\n",
    "# Deletem key1 from d\n",
    "del d[\"key1\"]\n",
    "\n",
    "d.items() "
   ]
  },
  {
   "cell_type": "code",
   "execution_count": 113,
   "metadata": {},
   "outputs": [
    {
     "data": {
      "text/plain": [
       "[('key2', 'value2'), ('new_value', 'new_value')]"
      ]
     },
     "execution_count": 113,
     "metadata": {},
     "output_type": "execute_result"
    }
   ],
   "source": [
    "# Make it a list\n",
    "list(d.items())"
   ]
  },
  {
   "cell_type": "markdown",
   "metadata": {},
   "source": [
    "#### Dictionary Uses\n",
    "\n",
    "Dictionaries are most useful when we have a collection of data that we want to access by name, rather than running through a sequence. If we compare them to a list for things like this, they are much easier to use. Rather than having to look through each item to see if the item we want is there, we can just ask for it by name and the dictionary will find it for us. In general, if we have a bunch of attributes that we want to associate with a single object, we can sensibly use a dictionary to store them."
   ]
  },
  {
   "cell_type": "markdown",
   "metadata": {},
   "source": [
    "#### Dictionary Looping\n",
    "\n",
    "In recent versions of Python, the dictionary is also iterable, or able to provide its items one-by-one. This means that we can loop through its items using a for list, without having to really adapt our loop at all. This is one strength of the way things are designed as iterables in Python, we can create a function that loops through our data in a list, then use that same function on data that is stored in a dictionary, or a set, or any other iterable.\n",
    "\n",
    "<b>Note:</b> this is also one example of something we commonly see in the syntax of Python, multiple return values. In this case, the for loop is returning two values, the key and the value. This is something that is common, a function can return more than one value, and we can \"take\" as many of those return values as we need. Commonly the \"main\" value is the first, and others follow. If we don't need them, we just leave them out. This is also an example where some simple design choices that we make can have positive or negative unintended impacts. By utilizing the common interface provided by the iterable data structures, our code can be more flexible and more easily reused."
   ]
  },
  {
   "cell_type": "code",
   "execution_count": 114,
   "metadata": {},
   "outputs": [
    {
     "name": "stdout",
     "output_type": "stream",
     "text": [
      "key2 value2\n",
      "new_value new_value\n"
     ]
    }
   ],
   "source": [
    "for key, value in d.items():\n",
    "    print(key, value)"
   ]
  },
  {
   "cell_type": "markdown",
   "metadata": {},
   "source": [
    "If we want to return the items themselves, as tuples, we can just get the one return value in the for loop. I.e. this one is returning each item as a tuple, as we're looping through the items; when we asked for the key and value above, we were getting them as separate values. This is something that is defined on the object itself, we need to refer back to the documentation to see what is available."
   ]
  },
  {
   "cell_type": "code",
   "execution_count": 115,
   "metadata": {},
   "outputs": [
    {
     "name": "stdout",
     "output_type": "stream",
     "text": [
      "('key2', 'value2')\n",
      "('new_value', 'new_value')\n"
     ]
    }
   ],
   "source": [
    "for key in d.items():\n",
    "    print(key)"
   ]
  },
  {
   "cell_type": "markdown",
   "metadata": {},
   "source": [
    "## Exercise\n",
    "\n",
    "Create a class called \"StudentGraduation\" that does the following:\n",
    "<ul>\n",
    "<li> Contains a dictionary of the courses a student has taken and the grade they received in each course. </li>\n",
    "<li> Contains a method that allows a function call to add or update a grade for a course. If the course is not in the student's dictionary already, add it; if it is, update that record. </li>\n",
    "<li> Contains a method that will calculate if the student can graduate. </li>\n",
    "    <ul>\n",
    "    <li> Consider them graduated if \"math\", \"science\", and \"english\" are all in their course list and they have a passing grade (>50%) in each. </li>\n",
    "    </ul>\n",
    "<li> Create a method that will print the student's transcript and GPA. </li>\n",
    "<li> Bonus - add some error checking to not allow any courses that are not \"math\", \"science\", \"english\", \"french\", or \"gym\" to be added to the dictionary. Provide an error if an unacceptable course is added. </li>\n",
    "</ul>\n",
    "\n",
    "There is some ambiguity here, that's ok, you can strategize and choose a good way to implement it. This exercise is good practice. In particular, you should think about both how to hold the data, and how to allow access to it through useful methods. Remember, from the outside we are asking the \"student graduation\" object to do something for us, we don't care how it does it, we just want it to do it. When asking if the student can graduate, we shouldn't have to worry about how that is determined internally, we just want to know if they can graduate or not."
   ]
  },
  {
   "cell_type": "code",
   "execution_count": 116,
   "metadata": {},
   "outputs": [],
   "source": [
    "# Codes:\n"
   ]
  },
  {
   "cell_type": "markdown",
   "metadata": {},
   "source": [
    "### Queues\n",
    "\n",
    "A queue is a collection of objects that are inserted and removed according to the first-in, first-out (FIFO) principle. An excellent example of a queue is a line of students in the food court of the UC. New additions to a line made to the back of the queue, while removal (or serving) happens in the front. In the queue data structure, the oldest element is removed first.\n",
    "\n",
    "### Stacks\n",
    "\n",
    "Stacks are kind of the opposite of queues, they are last-in, first-out (LIFO). We'll look at an example of a stack when we look at recursion. \n",
    "\n",
    "## Exercise\n",
    "\n",
    "Implement a queue in a class. We want to be able to add things to it and remove things, at a minimum.\n",
    "\n",
    "<b>Note:</b> there are lots of ways to do this, and if you search for examples there will probably try to operate more efficiently. Since a data structure is generally used over and over, potentially with lots of items, in many programs, this is a pretty good use of time trying to optimize for speed. Unless this is super easy for you, don't worry about that, the functions listed when we looked at lists should do the job. "
   ]
  },
  {
   "cell_type": "code",
   "execution_count": 117,
   "metadata": {},
   "outputs": [],
   "source": [
    "# Make a queue"
   ]
  }
 ],
 "metadata": {
  "kernelspec": {
   "display_name": "ml_env",
   "language": "python",
   "name": "python3"
  },
  "language_info": {
   "codemirror_mode": {
    "name": "ipython",
    "version": 3
   },
   "file_extension": ".py",
   "mimetype": "text/x-python",
   "name": "python",
   "nbconvert_exporter": "python",
   "pygments_lexer": "ipython3",
   "version": "3.10.9"
  },
  "orig_nbformat": 4
 },
 "nbformat": 4,
 "nbformat_minor": 2
}
