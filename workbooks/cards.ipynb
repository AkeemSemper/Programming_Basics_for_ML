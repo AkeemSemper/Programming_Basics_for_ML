{
 "cells": [
  {
   "cell_type": "code",
   "execution_count": null,
   "metadata": {},
   "outputs": [],
   "source": []
  },
  {
   "cell_type": "markdown",
   "metadata": {},
   "source": [
    "# Cards"
   ]
  },
  {
   "cell_type": "code",
   "execution_count": null,
   "metadata": {},
   "outputs": [],
   "source": [
    "class Card():\n",
    "    \n",
    "        def __init__(self, suit, value):\n",
    "            self.suit = suit\n",
    "            self.value = value\n",
    "    \n",
    "        def __repr__(self):\n",
    "            return \"{} of {}\".format(self.value, self.suit)\n",
    "class Deck():\n",
    "\n",
    "    suits = ['Hearts', 'Diamonds', 'Clubs', 'Spades']\n",
    "    values = ['Two', 'Three', 'Four', 'Five', 'Six', 'Seven', 'Eight',\n",
    "                'Nine', 'Ten', 'Jack', 'Queen', 'King', 'Ace']\n",
    "    \n",
    "    def __init__(self):\n",
    "        self.deck = []\n",
    "        for suit in Deck.suits:\n",
    "            for value in Deck.values:\n",
    "                self.deck.append(Card(suit, value))"
   ]
  }
 ],
 "metadata": {
  "language_info": {
   "name": "python"
  },
  "orig_nbformat": 4
 },
 "nbformat": 4,
 "nbformat_minor": 2
}
